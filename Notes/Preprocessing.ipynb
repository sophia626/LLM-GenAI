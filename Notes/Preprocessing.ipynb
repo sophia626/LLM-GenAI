{
 "cells": [
  {
   "cell_type": "markdown",
   "id": "58361788",
   "metadata": {},
   "source": [
    "# What happens before the DataLoader \n",
    "1.\tPrepare Raw Data\n",
    "2.\tDefine Tokenizer\n",
    "3.\tBuild Vocabulary\n",
    "4.\tCreate a Custom Dataset\n",
    "5.\tWrite a Collate Function\n",
    "6.\tThen Create the DataLoader"
   ]
  },
  {
   "cell_type": "markdown",
   "id": "57547c4c",
   "metadata": {},
   "source": [
    "## Raw Data \n"
   ]
  },
  {
   "cell_type": "code",
   "execution_count": 1,
   "id": "2da5105f",
   "metadata": {},
   "outputs": [],
   "source": [
    "import torch\n",
    "from torch.utils.data import Dataset, DataLoader\n",
    "\n",
    "sentences = [\n",
    "    \"This is a correct sentence.\",\n",
    "    \"This not grammar good.\",\n",
    "    \"Is this sentence correct?\"\n",
    "]\n",
    "\n",
    "class CustomDataset(Dataset):\n",
    "    def __init__(self, sentences):\n",
    "        self.sentences = sentences\n",
    "\n",
    "    def __len__(self):\n",
    "        return len(self.sentences)\n",
    "\n",
    "    def __getitem__(self, idx):\n",
    "        return self.sentences[idx]"
   ]
  },
  {
   "cell_type": "markdown",
   "id": "5a8e2a46",
   "metadata": {},
   "source": [
    "## Define Tokenizer + Build Vocab \n",
    "### Tokenization \n",
    "Convert raw text into a sequence of string tokens (words, subwords).\n",
    "\n",
    "### Vocabulary Construction \n",
    "Convert each token into an integer index using a consistent mapping.\n",
    "- \"basic_english\" splits text into lowercased words\n",
    "- specials includes <pad> for padding and <unk> for unknown tokens\n",
    "- set_default_index ensures OOV tokens map to <unk>"
   ]
  },
  {
   "cell_type": "code",
   "execution_count": 2,
   "id": "5c09739f",
   "metadata": {},
   "outputs": [],
   "source": [
    "from torchtext.data.utils import get_tokenizer\n",
    "from torchtext.vocab import build_vocab_from_iterator\n",
    "\n",
    "# Step 1: Create tokenizer\n",
    "tokenizer = get_tokenizer(\"basic_english\")\n",
    "\n",
    "# Step 2: Define a generator that yields token lists\n",
    "def yield_tokens(data_iter):\n",
    "    for text in data_iter:\n",
    "        yield tokenizer(text)\n",
    "\n",
    "# Step 3: Build vocab\n",
    "vocab = build_vocab_from_iterator(yield_tokens(sentences), specials=[\"<pad>\", \"<unk>\"])\n",
    "vocab.set_default_index(vocab[\"<unk>\"])\n"
   ]
  },
  {
   "cell_type": "markdown",
   "id": "cd3b9216",
   "metadata": {},
   "source": [
    "## Collate Function and Padding \n",
    "Ensure that all sequences in a batch have the same length.\n"
   ]
  },
  {
   "cell_type": "code",
   "execution_count": 3,
   "id": "291d299e",
   "metadata": {},
   "outputs": [],
   "source": [
    "from torch.nn.utils.rnn import pad_sequence\n",
    "\n",
    "def collate_fn(batch):\n",
    "    # Tokenize\n",
    "    tokenized = [tokenizer(sentence) for sentence in batch]\n",
    "    # Convert tokens to indices\n",
    "    indexed = [torch.tensor(vocab(tokens), dtype=torch.long) for tokens in tokenized]\n",
    "    # Pad to equal length\n",
    "    padded = pad_sequence(indexed, batch_first=True, padding_value=vocab[\"<pad>\"])\n",
    "    return padded"
   ]
  },
  {
   "cell_type": "markdown",
   "id": "53927123",
   "metadata": {},
   "source": [
    "## Data Loader \n"
   ]
  },
  {
   "cell_type": "code",
   "execution_count": 4,
   "id": "ffaa7736",
   "metadata": {},
   "outputs": [
    {
     "name": "stdout",
     "output_type": "stream",
     "text": [
      "tensor([[ 2, 11, 10,  9,  3,  0],\n",
      "        [ 2,  5,  8,  4,  6,  3]])\n",
      "tensor([[5, 2, 6, 4, 7]])\n"
     ]
    }
   ],
   "source": [
    "dataset = CustomDataset(sentences)\n",
    "loader = DataLoader(dataset, batch_size=2, shuffle=True, collate_fn=collate_fn)\n",
    "\n",
    "for batch in loader:\n",
    "    print(batch)"
   ]
  }
 ],
 "metadata": {
  "kernelspec": {
   "display_name": "interviews",
   "language": "python",
   "name": "python3"
  },
  "language_info": {
   "codemirror_mode": {
    "name": "ipython",
    "version": 3
   },
   "file_extension": ".py",
   "mimetype": "text/x-python",
   "name": "python",
   "nbconvert_exporter": "python",
   "pygments_lexer": "ipython3",
   "version": "3.11.10"
  }
 },
 "nbformat": 4,
 "nbformat_minor": 5
}
